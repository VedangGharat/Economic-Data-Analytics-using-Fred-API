{
  "nbformat": 4,
  "nbformat_minor": 0,
  "metadata": {
    "colab": {
      "private_outputs": true,
      "provenance": [],
      "authorship_tag": "ABX9TyNwZX3E5zjpek6xBtoaHGvI",
      "include_colab_link": true
    },
    "kernelspec": {
      "name": "python3",
      "display_name": "Python 3"
    },
    "language_info": {
      "name": "python"
    }
  },
  "cells": [
    {
      "cell_type": "markdown",
      "metadata": {
        "id": "view-in-github",
        "colab_type": "text"
      },
      "source": [
        "<a href=\"https://colab.research.google.com/github/VedangGharat/Economic-Data-Analytics-using-Fred-API/blob/main/Economic_data_analytics_using_Fred_API.ipynb\" target=\"_parent\"><img src=\"https://colab.research.google.com/assets/colab-badge.svg\" alt=\"Open In Colab\"/></a>"
      ]
    },
    {
      "cell_type": "code",
      "source": [
        "!pip install fredapi > /dev/null"
      ],
      "metadata": {
        "id": "CbMdcJpbrF89"
      },
      "execution_count": null,
      "outputs": []
    },
    {
      "cell_type": "code",
      "execution_count": null,
      "metadata": {
        "id": "C1UmoEgeqlis"
      },
      "outputs": [],
      "source": [
        "import pandas as pd\n",
        "import numpy as np\n",
        "import matplotlib.pyplot as plt\n",
        "%matplotlib inline\n",
        "\n",
        "import plotly.express as px\n",
        "plt.style.use('fivethirtyeight')\n",
        "# pd.set_option('max_columns', 100)\n",
        "color_pal = plt.rcParams['axes.prop_cycle'].by_key()[\"color\"]\n",
        "\n",
        "from fredapi import Fred"
      ]
    },
    {
      "cell_type": "code",
      "source": [
        "fred_key = \"9daedc28d1e262ac3881997db0b1cfd6\""
      ],
      "metadata": {
        "id": "7nPyGEV4qsvi"
      },
      "execution_count": null,
      "outputs": []
    },
    {
      "cell_type": "code",
      "source": [
        "# 1. create a fred object\n",
        "fred = Fred(api_key = fred_key)"
      ],
      "metadata": {
        "id": "WYoqV90lrEL9"
      },
      "execution_count": null,
      "outputs": []
    },
    {
      "cell_type": "code",
      "source": [
        "# 2. search fred for economic data\n",
        "s_psearch = fred.search('S&P', order_by='popularity')\n",
        "s_psearch.head(3)\n"
      ],
      "metadata": {
        "id": "5f9rO2l4tICg"
      },
      "execution_count": null,
      "outputs": []
    },
    {
      "cell_type": "code",
      "source": [
        "s_psearch.shape"
      ],
      "metadata": {
        "id": "iljzyJLhtvD1"
      },
      "execution_count": null,
      "outputs": []
    },
    {
      "cell_type": "code",
      "source": [
        "# 3. pull raw data and plot\n",
        "sp500 = fred.get_series(series_id=\"SP500\")\n",
        "sp500.plot(figsize = (10,5), title = \"S&P 500\", lw = 2)"
      ],
      "metadata": {
        "id": "KVxsr-2zucJv"
      },
      "execution_count": null,
      "outputs": []
    },
    {
      "cell_type": "code",
      "source": [
        "# 4. Pull and join mulitple data series\n",
        "uemp_results = fred.search('unemployment')\n",
        "uemp_results"
      ],
      "metadata": {
        "id": "y-rDMCZrxO2E"
      },
      "execution_count": null,
      "outputs": []
    },
    {
      "cell_type": "code",
      "source": [
        "uemp_state_results = fred.search('unemployment rate state', filter = ('frequency', 'Monthly'))\n",
        "uemp_df = uemp_state_results.query('seasonal_adjustment == \"Seasonally Adjusted\" and units == \"Percent\"')\n",
        "uemp_df = uemp_df.loc[uemp_df['title'].str.contains('Unemployment Rate')]\n",
        "uemp_df\n"
      ],
      "metadata": {
        "id": "DzZc2HnayfWc"
      },
      "execution_count": null,
      "outputs": []
    },
    {
      "cell_type": "code",
      "source": [
        "all_results = []\n",
        "for myid in uemp_df.index:\n",
        "    result = fred.get_series(myid)\n",
        "    result = result.to_frame(name = myid)\n",
        "    all_results.append(result)\n",
        "uemp_result = pd.concat(all_results, axis = 1).drop([\"M08311USM156SNBR\"], axis = 1)\n",
        "uemp_result"
      ],
      "metadata": {
        "id": "_AnCZ0xVy9vv"
      },
      "execution_count": null,
      "outputs": []
    },
    {
      "cell_type": "code",
      "source": [
        "uemp_state = uemp_result.drop(['UNRATE',\"LRUN25TTUSM156S\", \"LNS14000150\", \"LNS14000089\", \"LNS14000048\", \"LNS14000026\",\n",
        "                               \"LRUNTTTTUSM156S\", \"LRUNTTTTUSM156S\", \"CWSTUR\", \"CNERUR\", \"LNS14000061\", \"LNS14000006\", \"M0892AUSM156SNBR\",\n",
        "                               \"LNS14000024\", \"LNS14000031\", \"M0892BUSM156SNBR\", \"LNS14200000\", \"LRUN24TTUSM156S\", \"LNS14027689\", \"LNS14100000\",\n",
        "                               \"LNS14000315\", \"LNS14000029\", \"LNS14024230\", \"LNS14000025\", \"LNS14000002\", \"LNS14000009\", \"LNS14000003\", \"LNS14000036\",\n",
        "                               \"LNS14000036\", \"LNS14000032\", \"LNS14000001\", \"LNS14027660\", \"LNS14000018\", \"LNS14027662\", \"LNS14024887\", \"CMWRUR\",\n",
        "                               \"CSOUUR\", \"CNEWUR\", \"LASMT391746000000003\", \"U2RATE\", \"LRUN64TTUSM156S\", \"LNS14027659\", \"LASMT261982000000003\",\n",
        "                               \"LNS14000060\", \"LNS14000028\", \"LNS14032183\", \"LNS14000012\"], axis = 1)\n",
        "uemp_state"
      ],
      "metadata": {
        "id": "fxqBYRlE3KA1"
      },
      "execution_count": null,
      "outputs": []
    },
    {
      "cell_type": "code",
      "source": [
        "Aa = uemp_state.dropna()\n",
        "a"
      ],
      "metadata": {
        "id": "8wh67A2jkqWE"
      },
      "execution_count": null,
      "outputs": []
    },
    {
      "cell_type": "code",
      "source": [
        "px.line(uemp_state)"
      ],
      "metadata": {
        "id": "aT9UmySATHxE"
      },
      "execution_count": null,
      "outputs": []
    },
    {
      "cell_type": "code",
      "source": [
        "\n",
        "# uemp_state\n",
        "id_to_state = uemp_df['title'].str.strip(\"Unemployment Rate in\").drop(['UNRATE',\"LRUN25TTUSM156S\", \"LNS14000150\", \"LNS14000089\", \"LNS14000048\", \"LNS14000026\",\n",
        "                               \"LRUNTTTTUSM156S\", \"LRUNTTTTUSM156S\", \"CWSTUR\", \"CNERUR\", \"LNS14000061\", \"LNS14000006\", \"M0892AUSM156SNBR\",\n",
        "                               \"LNS14000024\", \"LNS14000031\", \"M0892BUSM156SNBR\", \"LNS14200000\", \"LRUN24TTUSM156S\", \"LNS14027689\", \"LNS14100000\",\n",
        "                               \"LNS14000315\", \"LNS14000029\", \"LNS14024230\", \"LNS14000025\", \"LNS14000002\", \"LNS14000009\", \"LNS14000003\", \"LNS14000036\",\n",
        "                               \"LNS14000036\", \"LNS14000032\", \"LNS14000001\", \"LNS14027660\", \"LNS14000018\", \"LNS14027662\", \"LNS14024887\", \"CMWRUR\",\n",
        "                               \"CSOUUR\", \"CNEWUR\", \"LASMT391746000000003\", \"U2RATE\", \"LRUN64TTUSM156S\", \"LNS14027659\", \"LASMT261982000000003\",\n",
        "                               \"LNS14000060\", \"LNS14000028\", \"LNS14032183\", \"LNS14000012\"], axis = 0).to_dict()\n",
        "uemp_state.columns = [id_to_state[c] for c in uemp_state.columns]\n",
        "uemp_state"
      ],
      "metadata": {
        "id": "zxadumrVS_VS"
      },
      "execution_count": null,
      "outputs": []
    },
    {
      "cell_type": "code",
      "source": [
        "ax = uemp_state.loc[uemp_state.index == \"2023-04-01\"].T.sort_values(\"2023-04-01\").plot(kind = \"barh\", figsize = (8,12), width = 0.9, edgecolor = \"black\", title = \"Unemployment rate in month of april 2023\")\n",
        "ax.legend().remove()\n",
        "plt.show()"
      ],
      "metadata": {
        "id": "2yJ4Cz0DUXp3"
      },
      "execution_count": null,
      "outputs": []
    },
    {
      "cell_type": "code",
      "source": [
        "# pull participation rate\n",
        "part_df = fred.search('participation rate state', filter = ('frequency', 'Monthly'))\n",
        "part_df = uemp_state_results.query('seasonal_adjustment == \"Seasonally Adjusted\" and units == \"Percent\"')\n",
        "\n",
        "part_df"
      ],
      "metadata": {
        "id": "b4viItWaevBD"
      },
      "execution_count": null,
      "outputs": []
    },
    {
      "cell_type": "code",
      "source": [
        "id_to_state = part_df['title'].str.strip(\"Labor Force Participation Rate for\").drop(['LNS11300006','LRAC25MAUSM156S','LNS11300036','LNS11327662','LRAC25FEUSM156S',\n",
        "                                                                                 'LNS11300028', 'LNS11300031', 'LNS11327660', 'LNS11300029', 'LNS11300009',\n",
        "                                                                                  'LNS11300032', 'LNS11327659', 'LNS11300026', 'LRIN64TTUSM156S', 'LRAC64TTUSM156S',\n",
        "                                                                                  'LNS11300025', 'LNS11327689', 'LRAC55TTUSM156S', 'LNS11300015',\n",
        "                                                                                  'LNS11300018', 'LRIN25MAUSM156S','LRAC24TTUSM156S', 'LRAC74TTUSM156S',\n",
        "                                                                                 'LRACTTFEUSM156S', 'LRAC25TTUSM156S', 'LRAC55MAUSM156S', 'LRAC55FEUSM156S',\n",
        "                                                                                  'LRAC24MAUSM156S', 'LRAC74FEUSM156S', 'LRAC24FEUSM156S', 'LRIN55MAUSM156S',\n",
        "                                                                                  'LRIN24MAUSM156S', 'LRIN24FEUSM156S', 'LRAC74MAUSM156S', 'LRIN74FEUSM156S', 'LRIN74MAUSM156S',\n",
        "                                                                                 'LRAC64FEUSM156S', 'LRIN64MAUSM156S', 'LRAC64MAUSM156S', 'LRIN64FEUSM156S',\n",
        "                                                                                'LRIN55FEUSM156S' ,'LRIN25FEUSM156S','LRIN55TTUSM156S',\n",
        "                                                                                'LRIN74TTUSM156S','LRIN24TTUSM156S','LRIN25TTUSM156S','LRACTTMAUSM156S',\n",
        "                                                                                 'LRINTTMAUSM156S','LRINTTFEUSM156S', 'LRACTTTTUSM156S','LRINTTTTUSM156S',\n",
        "                                                                                 \"LNS11300060\", \"CIVPART\", \"LNS11300002\", \"LNS11300001\", \"LNS11324230\",\n",
        "                                                                                 \"LNS11300012\", \"LNS11300003\"],axis = 0).to_dict()\n",
        "len(id_to_state)\n"
      ],
      "metadata": {
        "id": "QBj8bMBSoeCm"
      },
      "execution_count": null,
      "outputs": []
    },
    {
      "cell_type": "code",
      "source": [
        "part_all_results = []\n",
        "for myid in part_df.index:\n",
        "    result = fred.get_series(myid)\n",
        "    result = result.to_frame(name = myid)\n",
        "    part_all_results.append(result)\n",
        "part_state = pd.concat(part_all_results, axis = 1)\n",
        "part_state"
      ],
      "metadata": {
        "id": "f5ZaH5mxgrpC"
      },
      "execution_count": null,
      "outputs": []
    },
    {
      "cell_type": "code",
      "source": [
        "part_state = part_state.drop(['LNS11300006','LRAC25MAUSM156S','LNS11300036','LNS11327662','LRAC25FEUSM156S',\n",
        "                                        'LNS11300028', 'LNS11300031', 'LNS11327660', 'LNS11300029', 'LNS11300009',\n",
        "                                        'LNS11300032', 'LNS11327659', 'LNS11300026', 'LRIN64TTUSM156S', 'LRAC64TTUSM156S',\n",
        "                                        'LNS11300025', 'LNS11327689', 'LRAC55TTUSM156S', 'LNS11300015',\n",
        "                                        'LNS11300018', 'LRIN25MAUSM156S','LRAC24TTUSM156S', 'LRAC74TTUSM156S',\n",
        "                                        'LRACTTFEUSM156S', 'LRAC25TTUSM156S', 'LRAC55MAUSM156S', 'LRAC55FEUSM156S',\n",
        "                                        'LRAC24MAUSM156S', 'LRAC74FEUSM156S', 'LRAC24FEUSM156S', 'LRIN55MAUSM156S',\n",
        "                                        'LRIN24MAUSM156S', 'LRIN24FEUSM156S', 'LRAC74MAUSM156S', 'LRIN74FEUSM156S', 'LRIN74MAUSM156S',\n",
        "                                        'LRAC64FEUSM156S', 'LRIN64MAUSM156S', 'LRAC64MAUSM156S', 'LRIN64FEUSM156S',\n",
        "                                    'LRIN55FEUSM156S' ,'LRIN25FEUSM156S','LRIN55TTUSM156S',\n",
        "                                    'LRIN74TTUSM156S','LRIN24TTUSM156S','LRIN25TTUSM156S','LRACTTMAUSM156S',\n",
        "                                        'LRINTTMAUSM156S','LRINTTFEUSM156S', 'LRACTTTTUSM156S','LRINTTTTUSM156S',\n",
        "                                        \"LNS11300060\", \"CIVPART\", \"LNS11300002\", \"LNS11300001\", \"LNS11324230\",\n",
        "                                        \"LNS11300012\", \"LNS11300003\"],axis = 1)\n",
        "part_state.shape"
      ],
      "metadata": {
        "id": "ULTVFQ0SxB7M"
      },
      "execution_count": null,
      "outputs": []
    },
    {
      "cell_type": "code",
      "source": [
        "part_state.columns = [id_to_state[c] for c in part_state.columns]\n",
        "part_state"
      ],
      "metadata": {
        "id": "xiDRQ-vIprfB"
      },
      "execution_count": null,
      "outputs": []
    },
    {
      "cell_type": "code",
      "source": [
        "uemp_state = uemp_state.rename(columns = {\n",
        "    'Califor': 'California',\n",
        "    'Texas': 'Texas',\n",
        "    'New York': 'New York',\n",
        "    'Florid': 'Florida',\n",
        "    'Pennsylv': 'Pennsylvania',\n",
        "    'Oh': 'Ohio',\n",
        "    'Michig': 'Michigan',\n",
        "    'Alab': 'Alabama',\n",
        "    'Massachusetts': 'Massachusetts',\n",
        "    'North Car': 'North Carolina',\n",
        "    'Illinois': 'Illinois',\n",
        "    'New Jers': 'New Jersey',\n",
        "    'Georg': 'Georgia',\n",
        "    'Colorad': 'Colorado',\n",
        "    'Ariz': 'Arizona',\n",
        "    'Wiscons': 'Wisconsin',\n",
        "    'Virg': 'Virginia',\n",
        "    'Kentuck': 'Kentucky',\n",
        "    'South Car': 'South Carolina',\n",
        "    'New Mexic': 'New Mexico',\n",
        "    'Minnes': 'Minnesota',\n",
        "    'Tenness': 'Tennessee',\n",
        "    'Washing': 'Washington',\n",
        "    'Maryland': 'Maryland',\n",
        "    'Oreg': 'Oregon',\n",
        "    'West Virg': 'West Virginia',\n",
        "    'Nevad': 'Nevada',\n",
        "    'Arkansas': 'Arkansas',\n",
        "    'Oklah': 'Oklahoma',\n",
        "    'Missour': 'Missouri',\n",
        "    'Alask': 'Alaska',\n",
        "    'Iow': 'Iowa',\n",
        "    'h': 'Utah',\n",
        "    'Puerto Ric': 'Puerto Rico',\n",
        "    'Ind': 'Indiana',\n",
        "    'Louis': 'Louisiana',\n",
        "    'Haw': 'Hawaii',\n",
        "    'North Dak': 'North Dakota',\n",
        "    'M': 'Montana',\n",
        "    'he District of Columb': 'District of Columbia',\n",
        "    'Mississ': 'Mississippi',\n",
        "    'Nebrask': 'Nebraska',\n",
        "    'Connecticu': 'Connecticut',\n",
        "    'Idah': 'Idaho',\n",
        "    'New Hampshir': 'New Hampshire',\n",
        "    'hode Island': 'Rhode Island',\n",
        "    'Kansas': 'Kansas',\n",
        "    'Wyoming': 'Wyoming',\n",
        "    'Delawar': 'Delaware',\n",
        "    'Ver': 'Vermont',\n",
        "    'South Dak': 'South Dakota'\n",
        "})\n",
        "uemp_state.columns"
      ],
      "metadata": {
        "id": "Fi3FYu5P2tL3"
      },
      "execution_count": null,
      "outputs": []
    },
    {
      "cell_type": "code",
      "source": [
        "part_state = part_state.rename(columns = {\n",
        "    'Cal': 'California',\n",
        "    'Alabam': 'Alabama',\n",
        "    'New York': 'New York',\n",
        "    'Michigan': 'Michigan',\n",
        "    'Mississippi': 'Mississippi',\n",
        "    'Texas': 'Texas',\n",
        "    'lorid': 'Florida',\n",
        "    'Kentucky': 'Kentucky',\n",
        "    'Ohio': 'Ohio',\n",
        "    'Wisconsin': 'Wisconsin',\n",
        "    'sylv': 'Pennsylvania',\n",
        "    'Massachusetts': 'Massachusetts',\n",
        "    'Minnesota': 'Minnesota',\n",
        "    'Maryland': 'Maryland',\n",
        "    'West Virginia': 'West Virginia',\n",
        "    'Tennessee': 'Tennessee',\n",
        "    'Montana': 'Montana',\n",
        "    'Illinois': 'Illinois',\n",
        "    'North Carol': 'North Carolina',\n",
        "    'Georgia': 'Georgia',\n",
        "    'uis': 'Illinois',\n",
        "    'South Carol': 'South Carolina',\n",
        "    'Colorado': 'Colorado',\n",
        "    'h': 'Utah',\n",
        "    'Virginia': 'Virginia',\n",
        "    'Indiana': 'Indiana',\n",
        "    'Missou': 'Missouri',\n",
        "    'New Jersey': 'New Jersey',\n",
        "    'Iowa': 'Iowa',\n",
        "    'Alaska': 'Alaska',\n",
        "    'Washington': 'Washington',\n",
        "    'Arizona': 'Arizona',\n",
        "    'New Mex': 'New Mexico',\n",
        "    'Idaho': 'Idaho',\n",
        "    'Arkansas': 'Arkansas',\n",
        "    'Oklahom': 'Oklahoma',\n",
        "    'Nebraska': 'Nebraska',\n",
        "    'Hawaii': 'Hawaii',\n",
        "    'Nevada': 'Nevada',\n",
        "    'Oregon': 'Oregon',\n",
        "    'New Hampsh': 'New Hampshire',\n",
        "    'Verm': 'Vermont',\n",
        "    'Connecticut': 'Connecticut',\n",
        "    'North Dakota': 'North Dakota',\n",
        "    'South Dakota': 'South Dakota',\n",
        "    'Kansas': 'Kansas',\n",
        "    'Rhode Island': 'Rhode Island',\n",
        "    'District Of Colum': 'District of Columbia',\n",
        "    'Delaw': 'Delaware',\n",
        "    'Wyoming': 'Wyoming'\n",
        "})\n",
        "part_state.columns"
      ],
      "metadata": {
        "id": "LZOMZLRS2iAj"
      },
      "execution_count": null,
      "outputs": []
    },
    {
      "cell_type": "code",
      "source": [
        "#plot unemployement rate vs participation rate\n",
        "fig, axs = plt.subplots(10, 5 , figsize = (30, 30), sharex = True)\n",
        "axs = axs.flatten()\n",
        "i = 0\n",
        "for state in uemp_state.columns:\n",
        "    if state == \"District of Columbia\" or state == \"Puerto Rico\" or state == \"Louisiana\":\n",
        "        i-=1\n",
        "        continue\n",
        "\n",
        "    ax2 = axs[i].twinx()\n",
        "    uemp_state.query(\"index >= 2020 and index <= 2023\")[state].plot(ax = axs[i], label = \"Unemployment\")\n",
        "    part_state.query(\"index >= 2020 and index <= 2023\")[state].plot(ax = ax2, label = \"Participation\", color = color_pal[1])\n",
        "    ax2.grid(False)\n",
        "    axs[i].set_title(state)\n",
        "    i+=1\n",
        "plt.tight_layout()\n",
        "plt.show()"
      ],
      "metadata": {
        "id": "cxpg3OjWw4LZ"
      },
      "execution_count": null,
      "outputs": []
    },
    {
      "cell_type": "code",
      "source": [
        "|"
      ],
      "metadata": {
        "id": "h2piXJV-z2Iq"
      },
      "execution_count": null,
      "outputs": []
    }
  ]
}